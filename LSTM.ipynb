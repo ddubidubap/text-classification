{
 "cells": [
  {
   "cell_type": "markdown",
   "metadata": {},
   "source": [
    "https://djajafer.medium.com/multi-class-text-classification-with-keras-and-lstm-4c5525bef592"
   ]
  },
  {
   "cell_type": "code",
   "execution_count": 23,
   "metadata": {},
   "outputs": [],
   "source": [
    "import pandas as pd\n",
    "import numpy as np\n",
    "import tensorflow as tf\n",
    "from collections import Counter\n",
    "import matplotlib.pyplot as plt\n",
    "from tensorflow.keras.optimizers import Adam\n",
    "from sklearn.preprocessing import LabelEncoder\n",
    "from tensorflow.keras.models import Sequential\n",
    "from tensorflow.keras.utils import to_categorical\n",
    "from sklearn.model_selection import train_test_split\n",
    "from tensorflow.keras.preprocessing.text import Tokenizer\n",
    "from tensorflow.keras.preprocessing.sequence import pad_sequences\n",
    "from tensorflow.keras.layers import Dense, Flatten, LSTM, Dropout, Activation, Embedding, Bidirectional, Conv1D, MaxPooling1D"
   ]
  },
  {
   "cell_type": "code",
   "execution_count": 24,
   "metadata": {
    "scrolled": true
   },
   "outputs": [
    {
     "name": "stdout",
     "output_type": "stream",
     "text": [
      "16252 16252\n"
     ]
    }
   ],
   "source": [
    "file = 'LSTM.xlsx'\n",
    "df = pd.read_excel(file, header=0, engine='openpyxl')\n",
    "\n",
    "content = df.content\n",
    "label = df.category\n",
    "\n",
    "print(len(content), len(label))"
   ]
  },
  {
   "cell_type": "code",
   "execution_count": 25,
   "metadata": {},
   "outputs": [
    {
     "name": "stdout",
     "output_type": "stream",
     "text": [
      "[0] <-- Artificial Intelligence, Machine Learning, Computer Vision, Natural language processing\n",
      "[1] <-- Information Systems, Search, Information Retrieval, Database Systems, Data Mining, Data Science\n",
      "[2] <-- Networks and Communications\n",
      "[3] <-- Security and Privacy\n",
      "[4] <-- Web, Mobile and Multimedia Technologies\n"
     ]
    }
   ],
   "source": [
    "categories = np.unique(np.array(label))\n",
    "\n",
    "label_encoder = LabelEncoder()\n",
    "label = label_encoder.fit_transform(label)\n",
    "\n",
    "for i in categories:\n",
    "    labeled = label_encoder.transform([i])\n",
    "    print(labeled, '<--', i)"
   ]
  },
  {
   "cell_type": "code",
   "execution_count": 26,
   "metadata": {},
   "outputs": [
    {
     "name": "stdout",
     "output_type": "stream",
     "text": [
      "dict_keys([0, 2, 4, 3, 1])\n",
      "dict_values([2892, 3089, 2809, 2795, 3041])\n",
      "Train set 14626\n",
      "Test set 1626\n"
     ]
    }
   ],
   "source": [
    "X_train, X_test, Y_train, Y_test = train_test_split(content,label, shuffle=True,\n",
    "                                                    random_state=100, test_size=0.1)\n",
    "\n",
    "print(Counter(Y_train).keys())\n",
    "print(Counter(Y_train).values())\n",
    "\n",
    "print('Train set', len(Y_train))\n",
    "print('Test set', len(Y_test))"
   ]
  },
  {
   "cell_type": "code",
   "execution_count": 27,
   "metadata": {},
   "outputs": [],
   "source": [
    "tokenizer = Tokenizer(filters='#')\n",
    "tokenizer.fit_on_texts(X_train)"
   ]
  },
  {
   "cell_type": "code",
   "execution_count": 28,
   "metadata": {},
   "outputs": [
    {
     "name": "stdout",
     "output_type": "stream",
     "text": [
      "size of vocabulary : 29556\n",
      "words appearing only once (rare words) : 8565\n",
      "percentage of rare words in a word set:  28.978887535525782\n",
      "percentage of rare word appearance to total appearance frequency:  0.6329127954793843\n",
      "단어 집합(vocabulary)의 크기 : 29556\n",
      "등장 빈도가 1번 이하인 희귀 단어의 수: 8565\n",
      "단어 집합에서 희귀 단어의 비율: 28.978887535525782\n",
      "전체 등장 빈도에서 희귀 단어 등장 빈도 비율: 0.6329127954793843\n"
     ]
    }
   ],
   "source": [
    "threshold = 2\n",
    "total_cnt = len(tokenizer.word_index) # 단어의 수\n",
    "rare_cnt = 0 # 등장 빈도수가 threshold보다 작은 단어의 개수를 카운트\n",
    "total_freq = 0 # 훈련 데이터의 전체 단어 빈도수 총 합\n",
    "rare_freq = 0 # 등장 빈도수가 threshold보다 작은 단어의 등장 빈도수의 총 합\n",
    "\n",
    "# 단어와 빈도수의 쌍(pair)을 key와 value로 받는다.\n",
    "for key, value in tokenizer.word_counts.items():\n",
    "    total_freq = total_freq + value\n",
    "\n",
    "    # 단어의 등장 빈도수가 threshold보다 작으면\n",
    "    if(value < threshold):\n",
    "        rare_cnt = rare_cnt + 1\n",
    "        rare_freq = rare_freq + value\n",
    "\n",
    "print('size of vocabulary :',total_cnt)\n",
    "print('words appearing only once (rare words) :', rare_cnt)\n",
    "print('percentage of rare words in a word set: ', (rare_cnt / total_cnt)*100)\n",
    "print('percentage of rare word appearance to total appearance frequency: ', (rare_freq / total_freq)*100)\n",
    "        \n",
    "# print('단어 집합(vocabulary)의 크기 :',total_cnt)\n",
    "# print('등장 빈도가 %s번 이하인 희귀 단어의 수: %s'%(threshold - 1, rare_cnt))\n",
    "# print(\"단어 집합에서 희귀 단어의 비율:\", (rare_cnt / total_cnt)*100)\n",
    "# print(\"전체 등장 빈도에서 희귀 단어 등장 빈도 비율:\", (rare_freq / total_freq)*100)"
   ]
  },
  {
   "cell_type": "code",
   "execution_count": 29,
   "metadata": {},
   "outputs": [
    {
     "name": "stdout",
     "output_type": "stream",
     "text": [
      "단어 집합의 크기 : 20993\n"
     ]
    }
   ],
   "source": [
    "# 전체 단어 개수 중 빈도수 2이하인 단어 개수는 제거.\n",
    "# 0번 패딩 토큰과 1번 OOV 토큰을 고려하여 +2\n",
    "vocab_size = total_cnt - rare_cnt + 2\n",
    "print('단어 집합의 크기 :',vocab_size)"
   ]
  },
  {
   "cell_type": "code",
   "execution_count": 30,
   "metadata": {},
   "outputs": [],
   "source": [
    "tokenizer = Tokenizer( vocab_size, oov_token='OOV', filters='#') \n",
    "tokenizer.fit_on_texts(X_train)\n",
    "X_train = tokenizer.texts_to_sequences(X_train)\n",
    "X_test = tokenizer.texts_to_sequences(X_test)"
   ]
  },
  {
   "cell_type": "code",
   "execution_count": 31,
   "metadata": {},
   "outputs": [
    {
     "name": "stdout",
     "output_type": "stream",
     "text": [
      "기사의 최대 길이 : 285\n",
      "기사의 평균 길이 : 92.52475044441405\n"
     ]
    },
    {
     "data": {
      "image/png": "[encoded data removed]",
      "text/plain": [
       "<Figure size 432x288 with 1 Axes>"
      ]
     },
     "metadata": {
      "needs_background": "light"
     },
     "output_type": "display_data"
    }
   ],
   "source": [
    "print('기사의 최대 길이 :',max(len(l) for l in X_train))\n",
    "print('기사의 평균 길이 :',sum(map(len, X_train))/len(X_train))\n",
    "plt.hist([len(s) for s in X_train], bins=50)\n",
    "plt.xlabel('length of samples')\n",
    "plt.ylabel('number of samples')\n",
    "plt.show()"
   ]
  },
  {
   "cell_type": "code",
   "execution_count": 32,
   "metadata": {},
   "outputs": [
    {
     "name": "stdout",
     "output_type": "stream",
     "text": [
      "전체 샘플 중 길이가 300 이하인 샘플의 비율: 100.0\n"
     ]
    }
   ],
   "source": [
    "def below_threshold_len(max_len, nested_list):\n",
    "    cnt = 0\n",
    "    for s in nested_list:\n",
    "        if(len(s) <= max_len):\n",
    "            cnt = cnt + 1\n",
    "    print('전체 샘플 중 길이가 %s 이하인 샘플의 비율: %s'%(max_len, (cnt / len(nested_list))*100))\n",
    "\n",
    "max_len = 300\n",
    "below_threshold_len(max_len, X_train)"
   ]
  },
  {
   "cell_type": "code",
   "execution_count": 33,
   "metadata": {},
   "outputs": [],
   "source": [
    "X_train = pad_sequences(X_train, maxlen = max_len)\n",
    "X_test = pad_sequences(X_test, maxlen = max_len)"
   ]
  },
  {
   "cell_type": "code",
   "execution_count": 34,
   "metadata": {},
   "outputs": [],
   "source": [
    "Y_train = to_categorical(Y_train)\n",
    "Y_test = to_categorical(Y_test)"
   ]
  },
  {
   "cell_type": "code",
   "execution_count": 35,
   "metadata": {},
   "outputs": [
    {
     "name": "stdout",
     "output_type": "stream",
     "text": [
      "Model: \"sequential\"\n",
      "_________________________________________________________________\n",
      "Layer (type)                 Output Shape              Param #   \n",
      "=================================================================\n",
      "embedding (Embedding)        (None, 300, 64)           1343552   \n",
      "_________________________________________________________________\n",
      "dropout (Dropout)            (None, 300, 64)           0         \n",
      "_________________________________________________________________\n",
      "conv1d (Conv1D)              (None, 296, 64)           20544     \n",
      "_________________________________________________________________\n",
      "dropout_1 (Dropout)          (None, 296, 64)           0         \n",
      "_________________________________________________________________\n",
      "max_pooling1d (MaxPooling1D) (None, 74, 64)            0         \n",
      "_________________________________________________________________\n",
      "dropout_2 (Dropout)          (None, 74, 64)            0         \n",
      "_________________________________________________________________\n",
      "bidirectional (Bidirectional (None, 200)               132000    \n",
      "_________________________________________________________________\n",
      "dense (Dense)                (None, 5)                 1005      \n",
      "=================================================================\n",
      "Total params: 1,497,101\n",
      "Trainable params: 1,497,101\n",
      "Non-trainable params: 0\n",
      "_________________________________________________________________\n"
     ]
    }
   ],
   "source": [
    "model = Sequential()\n",
    "model.add(Embedding(vocab_size, 64, input_length=max_len))\n",
    "model.add(Dropout(0.5))\n",
    "model.add(Conv1D(64, 5, padding='valid', activation='relu', strides=1))\n",
    "model.add(Dropout(0.5))\n",
    "model.add(MaxPooling1D(pool_size=4))\n",
    "model.add(Dropout(0.5))\n",
    "model.add((Bidirectional(LSTM(100, recurrent_dropout=0.5))))\n",
    "model.add(Dense(5, activation='softmax'))\n",
    "model.summary()"
   ]
  },
  {
   "cell_type": "code",
   "execution_count": 36,
   "metadata": {},
   "outputs": [],
   "source": [
    "optimizer = Adam(lr=0.001, decay=1e-6)\n",
    "model.compile(loss='categorical_crossentropy', optimizer=optimizer, metrics=['accuracy'])"
   ]
  },
  {
   "cell_type": "code",
   "execution_count": 37,
   "metadata": {
    "scrolled": false
   },
   "outputs": [
    {
     "name": "stdout",
     "output_type": "stream",
     "text": [
      "Epoch 1/20\n",
      "244/244 [==============================] - 210s 820ms/step - loss: 1.5882 - accuracy: 0.2360 - val_loss: 1.4746 - val_accuracy: 0.3567\n",
      "Epoch 2/20\n",
      "244/244 [==============================] - 230s 941ms/step - loss: 1.3671 - accuracy: 0.4093 - val_loss: 1.3987 - val_accuracy: 0.3948\n",
      "Epoch 3/20\n",
      "244/244 [==============================] - 220s 901ms/step - loss: 1.1960 - accuracy: 0.5061 - val_loss: 1.4004 - val_accuracy: 0.3936\n",
      "Epoch 4/20\n",
      "244/244 [==============================] - 210s 861ms/step - loss: 1.0479 - accuracy: 0.5929 - val_loss: 1.4618 - val_accuracy: 0.3905\n",
      "Epoch 5/20\n",
      "244/244 [==============================] - 174s 712ms/step - loss: 0.9111 - accuracy: 0.6456 - val_loss: 1.5190 - val_accuracy: 0.3899\n",
      "Epoch 6/20\n",
      "244/244 [==============================] - 194s 792ms/step - loss: 0.7846 - accuracy: 0.7038 - val_loss: 1.5954 - val_accuracy: 0.3641\n",
      "Epoch 7/20\n",
      "244/244 [==============================] - 184s 755ms/step - loss: 0.6891 - accuracy: 0.7450 - val_loss: 1.6326 - val_accuracy: 0.3579\n",
      "Epoch 8/20\n",
      "244/244 [==============================] - 173s 708ms/step - loss: 0.6144 - accuracy: 0.7741 - val_loss: 1.8017 - val_accuracy: 0.3438\n",
      "Epoch 9/20\n",
      "244/244 [==============================] - 172s 704ms/step - loss: 0.5555 - accuracy: 0.7916 - val_loss: 1.9000 - val_accuracy: 0.3253\n",
      "Epoch 10/20\n",
      "244/244 [==============================] - 205s 839ms/step - loss: 0.5110 - accuracy: 0.8025 - val_loss: 2.0013 - val_accuracy: 0.3339\n",
      "Epoch 11/20\n",
      "244/244 [==============================] - 204s 837ms/step - loss: 0.4707 - accuracy: 0.8152 - val_loss: 2.0127 - val_accuracy: 0.3339\n",
      "Epoch 12/20\n",
      "244/244 [==============================] - 221s 907ms/step - loss: 0.4447 - accuracy: 0.8320 - val_loss: 2.2073 - val_accuracy: 0.3253\n",
      "Epoch 13/20\n",
      "244/244 [==============================] - 200s 820ms/step - loss: 0.4231 - accuracy: 0.8312 - val_loss: 2.2499 - val_accuracy: 0.3321\n",
      "Epoch 14/20\n",
      "244/244 [==============================] - 180s 738ms/step - loss: 0.4007 - accuracy: 0.8361 - val_loss: 2.3548 - val_accuracy: 0.3223\n",
      "Epoch 15/20\n",
      "244/244 [==============================] - 206s 843ms/step - loss: 0.3755 - accuracy: 0.8478 - val_loss: 2.4442 - val_accuracy: 0.3161\n",
      "Epoch 16/20\n",
      "244/244 [==============================] - 192s 786ms/step - loss: 0.3553 - accuracy: 0.8554 - val_loss: 2.5131 - val_accuracy: 0.3284\n",
      "Epoch 17/20\n",
      "244/244 [==============================] - 171s 699ms/step - loss: 0.3365 - accuracy: 0.8599 - val_loss: 2.6641 - val_accuracy: 0.3106\n",
      "Epoch 18/20\n",
      "244/244 [==============================] - 168s 689ms/step - loss: 0.3388 - accuracy: 0.8565 - val_loss: 2.7081 - val_accuracy: 0.3186\n",
      "Epoch 19/20\n",
      "244/244 [==============================] - 160s 655ms/step - loss: 0.3238 - accuracy: 0.8636 - val_loss: 2.7907 - val_accuracy: 0.3149\n",
      "Epoch 20/20\n",
      "244/244 [==============================] - 136s 558ms/step - loss: 0.3144 - accuracy: 0.8615 - val_loss: 2.8575 - val_accuracy: 0.3161\n"
     ]
    }
   ],
   "source": [
    "history = model.fit(X_train, Y_train, epochs=20, \n",
    "                    validation_data=(X_test, Y_test), batch_size=60)"
   ]
  },
  {
   "cell_type": "code",
   "execution_count": 39,
   "metadata": {},
   "outputs": [
    {
     "data": {
      "image/png": "[encoded data removed]",
      "text/plain": [
       "<Figure size 432x288 with 1 Axes>"
      ]
     },
     "metadata": {
      "needs_background": "light"
     },
     "output_type": "display_data"
    }
   ],
   "source": [
    "test_loss = history.history['val_loss']\n",
    "train_loss = history.history['loss']\n",
    "\n",
    "x_len = np.arange(len(train_loss))\n",
    "plt.plot(x_len, test_loss, marker='.', c='red', label='test set loss')\n",
    "plt.plot(x_len, train_loss, marker='.', c='blue', label='train set loss')\n",
    "\n",
    "plt.legend(loc='upper right')\n",
    "plt.grid()\n",
    "plt.xlabel('epoch')\n",
    "plt.ylabel('loss')\n",
    "plt.show()"
   ]
  },
  {
   "cell_type": "code",
   "execution_count": 40,
   "metadata": {},
   "outputs": [
    {
     "data": {
      "image/png": "[encoded data removed]",
      "text/plain": [
       "<Figure size 432x288 with 1 Axes>"
      ]
     },
     "metadata": {
      "needs_background": "light"
     },
     "output_type": "display_data"
    }
   ],
   "source": [
    "test_acc = history.history['val_accuracy']\n",
    "train_acc = history.history['accuracy']\n",
    "\n",
    "x_len = np.arange(len(train_loss))\n",
    "plt.plot(x_len, test_acc, marker='.', c='red', label='test set accuracy')\n",
    "plt.plot(x_len, train_acc, marker='.', c='blue', label='train set accuracy')\n",
    "\n",
    "plt.legend(loc='upper right')\n",
    "plt.grid()\n",
    "plt.xlabel('epoch')\n",
    "plt.ylabel('accuracy')\n",
    "plt.show()"
   ]
  }
 ],
 "metadata": {
  "kernelspec": {
   "display_name": "Python 3 (ipykernel)",
   "language": "python",
   "name": "python3"
  },
  "language_info": {
   "codemirror_mode": {
    "name": "ipython",
    "version": 3
   },
   "file_extension": ".py",
   "mimetype": "text/x-python",
   "name": "python",
   "nbconvert_exporter": "python",
   "pygments_lexer": "ipython3",
   "version": "3.9.7"
  }
 },
 "nbformat": 4,
 "nbformat_minor": 4
}
